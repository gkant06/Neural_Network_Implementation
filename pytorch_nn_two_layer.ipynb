{
  "cells": [
    {
      "cell_type": "markdown",
      "source": [
        "Homework 1\n",
        "\n",
        "Name: Gautami Kant\n",
        "Andrew ID: gkant\n",
        "\n",
        "Extra Credit: PyTorch Implemention of a 2-layer neural network"
      ],
      "metadata": {
        "id": "4p7Z7cGe2a8A"
      },
      "id": "4p7Z7cGe2a8A"
    },
    {
      "cell_type": "code",
      "execution_count": 1,
      "id": "6d990aa5-fa69-4fb0-877a-829685eab62c",
      "metadata": {
        "id": "6d990aa5-fa69-4fb0-877a-829685eab62c"
      },
      "outputs": [],
      "source": [
        "import numpy as np\n",
        "import torch\n",
        "from torch.utils.data import Dataset, DataLoader\n",
        "import torch.nn as nn\n",
        "import torch.optim as optim\n",
        "import torch.nn.functional as F\n",
        "from typing import Optional, List, Tuple, Dict\n",
        "import matplotlib.pyplot as plt"
      ]
    },
    {
      "cell_type": "code",
      "source": [
        "if torch.cuda.is_available():\n",
        "    device = torch.device(\"cuda\")\n",
        "else:\n",
        "    device = torch.device(\"cpu\")"
      ],
      "metadata": {
        "id": "K-t6kvAa5Zsy"
      },
      "id": "K-t6kvAa5Zsy",
      "execution_count": null,
      "outputs": []
    },
    {
      "cell_type": "code",
      "source": [
        "from google.colab import drive\n",
        "drive.mount('/content/drive')"
      ],
      "metadata": {
        "colab": {
          "base_uri": "https://localhost:8080/"
        },
        "id": "fLJ2DnpucRLI",
        "outputId": "b35609df-7a05-44d2-874d-e6a1674b4a31"
      },
      "id": "fLJ2DnpucRLI",
      "execution_count": null,
      "outputs": [
        {
          "output_type": "stream",
          "name": "stdout",
          "text": [
            "Mounted at /content/drive\n"
          ]
        }
      ]
    },
    {
      "cell_type": "code",
      "execution_count": null,
      "id": "504d9785-458d-4d8d-aa87-bac678e94638",
      "metadata": {
        "id": "504d9785-458d-4d8d-aa87-bac678e94638"
      },
      "outputs": [],
      "source": [
        "class DS(Dataset):\n",
        "    def __init__(self, X: np.ndarray, Y: np.ndarray):\n",
        "        self.length = len(X)\n",
        "        self.X = X\n",
        "        self.Y = Y\n",
        "\n",
        "    def __getitem__(self, idx):\n",
        "        x = self.X[idx, :]\n",
        "        y = self.Y[idx]\n",
        "        return (x, y)\n",
        "\n",
        "    def __len__(self):\n",
        "        return self.length"
      ]
    },
    {
      "cell_type": "code",
      "execution_count": null,
      "id": "9e9fed8a-7da2-4b29-8ead-c0437a90bee9",
      "metadata": {
        "tags": [],
        "id": "9e9fed8a-7da2-4b29-8ead-c0437a90bee9"
      },
      "outputs": [],
      "source": [
        "# Parameters\n",
        "indim = 10\n",
        "outdim = 2\n",
        "hidden_layer_1 = 100\n",
        "hidden_layer_2 = 100\n",
        "lr = 0.01\n",
        "batch_size = 64\n",
        "epochs = 200"
      ]
    },
    {
      "cell_type": "code",
      "execution_count": null,
      "id": "70c83544-8ff1-44d7-91df-4138541ddfc3",
      "metadata": {
        "colab": {
          "base_uri": "https://localhost:8080/"
        },
        "id": "70c83544-8ff1-44d7-91df-4138541ddfc3",
        "outputId": "bb0792dd-01c4-4863-a7ec-92c36185fe44"
      },
      "outputs": [
        {
          "output_type": "stream",
          "name": "stdout",
          "text": [
            "500 10\n",
            "200 10\n"
          ]
        }
      ],
      "source": [
        "# Dataloader for training and test datasets\n",
        "\n",
        "Xtrain = np.loadtxt(\"/content/drive/MyDrive/NN_HW1/XTrain.txt\", delimiter=\"\\t\")\n",
        "Ytrain = np.loadtxt(\"/content/drive/MyDrive/NN_HW1/yTrain.txt\", delimiter=\"\\t\").astype(int)\n",
        "Ytrain = torch.from_numpy(Ytrain)\n",
        "Ytrain = Ytrain.type(torch.LongTensor)\n",
        "m1, n1 = Xtrain.shape\n",
        "print(m1, n1)\n",
        "train_ds = DS(Xtrain, Ytrain)\n",
        "train_loader = DataLoader(train_ds, batch_size=batch_size)\n",
        "\n",
        "Xtest = np.loadtxt(\"/content/drive/MyDrive/NN_HW1/XTest.txt\", delimiter=\"\\t\")\n",
        "Ytest = np.loadtxt(\"/content/drive/MyDrive/NN_HW1/yTest.txt\", delimiter=\"\\t\").astype(int)\n",
        "Ytest = torch.from_numpy(Ytest)\n",
        "Ytest = Ytest.type(torch.LongTensor)\n",
        "m2, n2 = Xtest.shape\n",
        "print(m2, n2)\n",
        "test_ds = DS(Xtest, Ytest)\n",
        "test_loader = DataLoader(test_ds, batch_size=batch_size)"
      ]
    },
    {
      "cell_type": "code",
      "execution_count": null,
      "id": "f506921b-9a9e-4d6e-a35c-604b79b33a69",
      "metadata": {
        "id": "f506921b-9a9e-4d6e-a35c-604b79b33a69"
      },
      "outputs": [],
      "source": [
        "# Adding another hidden layer with 100 nodes\n",
        "\n",
        "class SingleLayerMLP(nn.Module):\n",
        "    \"\"\"constructing a single layer neural network with Pytorch\"\"\"\n",
        "    def __init__(self, indim, outdim, hidden_layer_1, hidden_layer_2):\n",
        "        super(SingleLayerMLP, self).__init__()\n",
        "        self.fc1 = nn.Linear(indim, hidden_layer_1)\n",
        "        self.relu1 = nn.ReLU()\n",
        "        self.fc2 = nn.Linear(hidden_layer_1, hidden_layer_2)\n",
        "        self.relu2 = nn.ReLU()\n",
        "        self.fc3 = nn.Linear(hidden_layer_2, outdim)\n",
        "\n",
        "    def forward(self, x):\n",
        "        x = x.to(torch.float32)\n",
        "        out = self.fc1(x)\n",
        "        out = self.relu1(out)\n",
        "        out = self.fc2(out)\n",
        "        out = self.relu2(out)\n",
        "        out = self.fc3(out)\n",
        "        return out"
      ]
    },
    {
      "cell_type": "code",
      "execution_count": null,
      "id": "89a2ee50-227d-4269-8793-5020a1cac16f",
      "metadata": {
        "colab": {
          "base_uri": "https://localhost:8080/"
        },
        "id": "89a2ee50-227d-4269-8793-5020a1cac16f",
        "outputId": "beb36312-5989-4387-b5d6-bc2cabc56058"
      },
      "outputs": [
        {
          "output_type": "stream",
          "name": "stdout",
          "text": [
            "SingleLayerMLP(\n",
            "  (fc1): Linear(in_features=10, out_features=100, bias=True)\n",
            "  (relu1): ReLU()\n",
            "  (fc2): Linear(in_features=100, out_features=100, bias=True)\n",
            "  (relu2): ReLU()\n",
            "  (fc3): Linear(in_features=100, out_features=2, bias=True)\n",
            ")\n"
          ]
        }
      ],
      "source": [
        "# Initialize the network\n",
        "\n",
        "model = SingleLayerMLP(indim, outdim, hidden_layer_1, hidden_layer_2)\n",
        "print(model)"
      ]
    },
    {
      "cell_type": "code",
      "execution_count": null,
      "id": "12e81742-0b33-4b13-93fd-3388cfe0266d",
      "metadata": {
        "id": "12e81742-0b33-4b13-93fd-3388cfe0266d"
      },
      "outputs": [],
      "source": [
        "# Initializing Loss and optimizer\n",
        "\n",
        "loss_fn = nn.CrossEntropyLoss()\n",
        "optimizer = optim.SGD(model.parameters(), lr = lr)"
      ]
    },
    {
      "cell_type": "code",
      "execution_count": null,
      "id": "b25d13ee-ea4c-4637-987e-a6865ab51842",
      "metadata": {
        "id": "b25d13ee-ea4c-4637-987e-a6865ab51842"
      },
      "outputs": [],
      "source": [
        "# Constructing the training process\n",
        "\n",
        "def training_process(train_loader, test_loader, model, loss_fn, num_epochs):\n",
        "\n",
        "  train_size = len(train_loader.dataset)\n",
        "  test_size = len(test_loader.dataset)\n",
        "  num_batches_train = len(train_loader)\n",
        "  num_batches_test = len(test_loader)\n",
        "\n",
        "  # Initilizing training and test accuracy/loss which will be used for plotting\n",
        "  train_loss = []\n",
        "  test_loss = []\n",
        "  train_acc = []\n",
        "  test_acc = []\n",
        "  epoch_id = []\n",
        "\n",
        "  # Training loop\n",
        "  train_temp = 0.0\n",
        "  for epoch in range(epochs):\n",
        "      loss_temp = 0.0\n",
        "      for batch_idx, (X, y) in enumerate(train_loader):\n",
        "          \n",
        "          prediction = model(X)\n",
        "          loss1 = loss_fn(prediction, y)\n",
        "          \n",
        "          #Reset the gradients of model parameters. Gradients add up by default so to prevent double-counting we explicitly zero them at each iteration\n",
        "          optimizer.zero_grad()\n",
        "          #Backpropagate the prediction loss \n",
        "          loss1.backward()\n",
        "          #Adjust parameters obtained in the backward pass\n",
        "          optimizer.step()\n",
        "          \n",
        "          loss_temp = loss_temp + loss1.item()\n",
        "          train_temp += (prediction.argmax(1) == y).type(torch.float).sum().item()\n",
        "          \n",
        "      train_loss.append(loss_temp/num_batches_train)\n",
        "      train_acc.append(train_temp/train_size)\n",
        "      train_temp = 0.0\n",
        "\n",
        "      # Test loop\n",
        "      loss_testtemp = 0.0 \n",
        "      correct_preds = 0\n",
        "      with torch.no_grad():\n",
        "            for X, y in test_loader:\n",
        "              prediction = model(X)\n",
        "              loss2 = loss_fn(prediction, y)\n",
        "              loss_testtemp = loss_testtemp + loss2.item() \n",
        "              correct_preds += (prediction.argmax(1) == y).type(torch.float).sum().item()\n",
        "      correct_preds /= test_size\n",
        "      test_acc.append(correct_preds)\n",
        "      test_loss.append(loss_testtemp/num_batches_test)\n",
        "      epoch_id.append(epoch)\n",
        "\n",
        "  return train_loss, test_loss, train_acc, test_acc, epoch_id"
      ]
    },
    {
      "cell_type": "code",
      "execution_count": null,
      "id": "3037ae8b-cee2-4b1c-bddb-28adde9f5213",
      "metadata": {
        "id": "3037ae8b-cee2-4b1c-bddb-28adde9f5213"
      },
      "outputs": [],
      "source": [
        "# Calling the training function\n",
        "\n",
        "train_loss, test_loss, train_acc, test_acc, epoch_id = training_process(train_loader, test_loader, model, loss_fn, epochs)"
      ]
    },
    {
      "cell_type": "code",
      "source": [
        "## Plotting training and test loss\n",
        "\n",
        "fig, ax = plt.subplots(figsize=(8,6))\n",
        "ax.plot(epoch_id, train_loss, color='green',label='Training Loss' )\n",
        "ax.plot(epoch_id, test_loss, color='red', label = 'Test Loss' )\n",
        "ax.set(title = \"Training vs. Test Loss (PyTorch Implementation of NN with 2 hidden layers)\",\n",
        "       xlabel = \"Epoch\",\n",
        "       ylabel = \"Loss\")\n",
        "plt.legend()\n",
        "plt.show()"
      ],
      "metadata": {
        "colab": {
          "base_uri": "https://localhost:8080/",
          "height": 404
        },
        "id": "dNL-UN8Sd0ur",
        "outputId": "bf799dbd-019c-4b56-8e11-85dbc7b058ab"
      },
      "id": "dNL-UN8Sd0ur",
      "execution_count": null,
      "outputs": [
        {
          "output_type": "display_data",
          "data": {
            "text/plain": [
              "<Figure size 576x432 with 1 Axes>"
            ],
            "image/png": "[encoded data removed]"
          },
          "metadata": {
            "needs_background": "light"
          }
        }
      ]
    },
    {
      "cell_type": "code",
      "source": [
        "min_train_loss, min_test_loss = min(train_loss), min(test_loss)\n",
        "min_train_loss, min_test_loss"
      ],
      "metadata": {
        "colab": {
          "base_uri": "https://localhost:8080/"
        },
        "id": "H7DN7im-j4wy",
        "outputId": "a38adff0-e2e3-4f89-99ed-b42319122e84"
      },
      "id": "H7DN7im-j4wy",
      "execution_count": null,
      "outputs": [
        {
          "output_type": "execute_result",
          "data": {
            "text/plain": [
              "(0.10353196039795876, 0.13828916661441326)"
            ]
          },
          "metadata": {},
          "execution_count": 14
        }
      ]
    },
    {
      "cell_type": "code",
      "source": [
        "## Plotting training and test accuracies\n",
        "\n",
        "fig, ax = plt.subplots(figsize=(8,6))\n",
        "ax.plot(epoch_id, train_acc, color='green',label='Training Accuracy' )\n",
        "ax.plot(epoch_id, test_acc, color='red', label = 'Test Accuracy' )\n",
        "ax.set(title = \"Training vs. Test Accuracy (PyTorch Implementation of NN with 2 hidden layers)\",\n",
        "       xlabel = \"Epoch\",\n",
        "       ylabel = \"Accuracy\")\n",
        "plt.legend()\n",
        "plt.show()"
      ],
      "metadata": {
        "colab": {
          "base_uri": "https://localhost:8080/",
          "height": 404
        },
        "id": "zGIZdkocc3-7",
        "outputId": "acf81f0b-9430-461b-8c7f-ee37f87e1eba"
      },
      "id": "zGIZdkocc3-7",
      "execution_count": null,
      "outputs": [
        {
          "output_type": "display_data",
          "data": {
            "text/plain": [
              "<Figure size 576x432 with 1 Axes>"
            ],
            "image/png": "[encoded data removed]"
          },
          "metadata": {
            "needs_background": "light"
          }
        }
      ]
    },
    {
      "cell_type": "code",
      "source": [
        "final_train_accuracy, final_test_accuracy = max(train_acc), max(test_acc)\n",
        "final_train_accuracy, final_test_accuracy"
      ],
      "metadata": {
        "colab": {
          "base_uri": "https://localhost:8080/"
        },
        "id": "DFpL-vnekGgU",
        "outputId": "291b2256-3e0f-458c-f726-3e9b19637bce"
      },
      "id": "DFpL-vnekGgU",
      "execution_count": null,
      "outputs": [
        {
          "output_type": "execute_result",
          "data": {
            "text/plain": [
              "(0.978, 0.955)"
            ]
          },
          "metadata": {},
          "execution_count": 17
        }
      ]
    },
    {
      "cell_type": "code",
      "source": [
        "min(train_acc), min(test_acc)"
      ],
      "metadata": {
        "id": "1Rrz33gmkKmB",
        "outputId": "ac029c36-2f98-4fda-8776-09471e0e8945",
        "colab": {
          "base_uri": "https://localhost:8080/"
        }
      },
      "id": "1Rrz33gmkKmB",
      "execution_count": null,
      "outputs": [
        {
          "output_type": "execute_result",
          "data": {
            "text/plain": [
              "(0.67, 0.725)"
            ]
          },
          "metadata": {},
          "execution_count": 16
        }
      ]
    }
  ],
  "metadata": {
    "kernelspec": {
      "display_name": "Python 3 (ipykernel)",
      "language": "python",
      "name": "python3"
    },
    "language_info": {
      "codemirror_mode": {
        "name": "ipython",
        "version": 3
      },
      "file_extension": ".py",
      "mimetype": "text/x-python",
      "name": "python",
      "nbconvert_exporter": "python",
      "pygments_lexer": "ipython3",
      "version": "3.9.12"
    },
    "colab": {
      "provenance": []
    }
  },
  "nbformat": 4,
  "nbformat_minor": 5
}