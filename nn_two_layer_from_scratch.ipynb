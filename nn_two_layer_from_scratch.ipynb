{
  "cells": [
    {
      "cell_type": "markdown",
      "id": "663e6d92-34b3-4cca-b3c0-a67a90bede09",
      "metadata": {
        "id": "663e6d92-34b3-4cca-b3c0-a67a90bede09"
      },
      "source": [
        "Homework 1\n",
        "\n",
        "Extra Credit: Implement a two-layer neural network from scratch\n",
        "\n",
        "Name: Gautami Kant\n",
        "Andrew ID: gkant"
      ]
    },
    {
      "cell_type": "code",
      "execution_count": 1,
      "id": "4f45d3d0-52c8-442a-a223-4fe11cc9fce1",
      "metadata": {
        "id": "4f45d3d0-52c8-442a-a223-4fe11cc9fce1"
      },
      "outputs": [],
      "source": [
        "# Importing libraries\n",
        "import numpy as np\n",
        "import torch\n",
        "from torch.utils.data import Dataset, DataLoader\n",
        "from typing import Optional, List, Tuple, Dict\n",
        "import matplotlib.pyplot as plt"
      ]
    },
    {
      "cell_type": "code",
      "source": [
        "if torch.cuda.is_available():\n",
        "    device = torch.device(\"cuda\")\n",
        "else:\n",
        "    device = torch.device(\"cpu\")"
      ],
      "metadata": {
        "id": "zLFHp3cDTvLi"
      },
      "id": "zLFHp3cDTvLi",
      "execution_count": 2,
      "outputs": []
    },
    {
      "cell_type": "code",
      "source": [
        "from google.colab import drive\n",
        "drive.mount('/content/drive')"
      ],
      "metadata": {
        "colab": {
          "base_uri": "https://localhost:8080/"
        },
        "id": "VtyYNADgsTsG",
        "outputId": "466192c4-ba4c-4954-c123-e484dcc3dabb"
      },
      "id": "VtyYNADgsTsG",
      "execution_count": 3,
      "outputs": [
        {
          "output_type": "stream",
          "name": "stdout",
          "text": [
            "Drive already mounted at /content/drive; to attempt to forcibly remount, call drive.mount(\"/content/drive\", force_remount=True).\n"
          ]
        }
      ]
    },
    {
      "cell_type": "code",
      "execution_count": 4,
      "id": "b90c3643-f565-49a4-a823-6bf62542a98b",
      "metadata": {
        "id": "b90c3643-f565-49a4-a823-6bf62542a98b"
      },
      "outputs": [],
      "source": [
        "class Transform(object):\n",
        "    \"\"\"\n",
        "    This is the base class. You do not need to change anything.\n",
        "    Read the comments in this class carefully.\n",
        "    \"\"\"\n",
        "    def __init__(self):\n",
        "        \"\"\"\n",
        "        Initialize any parameters\n",
        "        \"\"\"\n",
        "        pass\n",
        "\n",
        "    def forward(self, x):\n",
        "        \"\"\"\n",
        "        x should be passed as column vectors\n",
        "        \"\"\"\n",
        "        pass\n",
        "\n",
        "    def backward(self, grad_wrt_out):\n",
        "        \"\"\"\n",
        "        Compute and save the gradients wrt the parameters for step()\n",
        "        Return grad_wrt_x which will be the grad_wrt_out for previous Transform\n",
        "        \"\"\"\n",
        "        pass\n",
        "\n",
        "    def step(self):\n",
        "        \"\"\"\n",
        "        Apply gradients to update the parameters\n",
        "        \"\"\"\n",
        "        pass\n",
        "\n",
        "    def zerograd(self):\n",
        "        \"\"\"\n",
        "        This is used to Reset the gradients.\n",
        "        Usually called before backward()\n",
        "        \"\"\"\n",
        "        pass\n"
      ]
    },
    {
      "cell_type": "code",
      "execution_count": 5,
      "id": "8526723c-07b8-4067-9ed5-4696238d4b30",
      "metadata": {
        "tags": [],
        "id": "8526723c-07b8-4067-9ed5-4696238d4b30"
      },
      "outputs": [],
      "source": [
        "# Parameters. Increased the epochs to 700, giving better results compared to 200\n",
        "\n",
        "indim = 10\n",
        "outdim = 2\n",
        "hidden_dim_1 = 100\n",
        "hidden_dim_2 = 100\n",
        "lr = 0.01\n",
        "batch_size = 64\n",
        "epochs = 700\n"
      ]
    },
    {
      "cell_type": "code",
      "execution_count": 6,
      "id": "92311cc2-4a1d-4d1c-ba93-beda981f890b",
      "metadata": {
        "id": "92311cc2-4a1d-4d1c-ba93-beda981f890b"
      },
      "outputs": [],
      "source": [
        "class DS(Dataset):\n",
        "    def __init__(self, X: np.ndarray, Y: np.ndarray):\n",
        "        self.length = len(X)\n",
        "        self.X = X\n",
        "        self.Y = Y\n",
        "\n",
        "    def __getitem__(self, idx):\n",
        "        x = self.X[idx, :]\n",
        "        y = self.Y[idx]\n",
        "        return (x, y)\n",
        "\n",
        "    def __len__(self):\n",
        "        return self.length\n"
      ]
    },
    {
      "cell_type": "code",
      "execution_count": 7,
      "id": "aff1664e-7294-4ae4-b873-8cf3cf520af3",
      "metadata": {
        "id": "aff1664e-7294-4ae4-b873-8cf3cf520af3"
      },
      "outputs": [],
      "source": [
        "# One hot encoding\n",
        "\n",
        "def labels2onehot(labels: np.ndarray):\n",
        "    return np.array([[i==lab for i in range(2)] for lab in labels]).astype(int)\n"
      ]
    },
    {
      "cell_type": "code",
      "execution_count": 8,
      "id": "eabc9fd4-655a-460a-a1bd-f6b8d2664fb0",
      "metadata": {
        "colab": {
          "base_uri": "https://localhost:8080/"
        },
        "id": "eabc9fd4-655a-460a-a1bd-f6b8d2664fb0",
        "outputId": "3f0e5f68-f3b2-4c29-e5e4-6e95ad8b78e9"
      },
      "outputs": [
        {
          "output_type": "stream",
          "name": "stdout",
          "text": [
            "500 10\n",
            "500 10\n"
          ]
        }
      ],
      "source": [
        "if __name__ == \"__main__\":\n",
        "    \"\"\"The dataset loaders were provided for you.\n",
        "    You need to implement your own training process.\n",
        "    You need plot the loss and accuracies during the training process and test process. \n",
        "    \"\"\"\n",
        "\n",
        "#Importing training and test datasets\n",
        "\n",
        "Xtrain = np.loadtxt(\"/content/drive/MyDrive/NN_HW1/XTrain.txt\", delimiter=\"\\t\")\n",
        "Ytrain = np.loadtxt(\"/content/drive/MyDrive/NN_HW1/yTrain.txt\", delimiter=\"\\t\").astype(int)\n",
        "m1, n1 = Xtrain.shape\n",
        "print(m1, n1)\n",
        "train_ds = DS(Xtrain, Ytrain)\n",
        "train_loader = DataLoader(train_ds, batch_size=batch_size)\n",
        "\n",
        "Xtest = np.loadtxt(\"/content/drive/MyDrive/NN_HW1/XTest.txt\", delimiter=\"\\t\")\n",
        "Ytest = np.loadtxt(\"/content/drive/MyDrive/NN_HW1/yTest.txt\", delimiter=\"\\t\").astype(int)\n",
        "m2, n2 = Xtest.shape\n",
        "print(m1, n2)\n",
        "test_ds = DS(Xtest, Ytest)\n",
        "test_loader = DataLoader(test_ds, batch_size=batch_size)\n"
      ]
    },
    {
      "cell_type": "code",
      "execution_count": 9,
      "id": "7bc6d931-a8c3-4e5a-b74e-f476ba31517a",
      "metadata": {
        "id": "7bc6d931-a8c3-4e5a-b74e-f476ba31517a"
      },
      "outputs": [],
      "source": [
        "class ReLU(Transform):\n",
        "    def __init__(self):\n",
        "        super(ReLU, self).__init__()\n",
        "        \n",
        "\n",
        "    def forward(self, x):\n",
        "        \"\"\"\n",
        "        x shape (indim, batch_size)\n",
        "        return shape (indim, batch_size)\n",
        "        \"\"\"\n",
        "        self.out = torch.max(x, torch.zeros_like(x))\n",
        "        return self.out\n",
        "        \n",
        "\n",
        "    def backward(self, grad_wrt_out):\n",
        "        \"\"\"\n",
        "        grad_wrt_out shape (outdim, batch_size)\n",
        "    \n",
        "        \"\"\"\n",
        "        return grad_wrt_out * (self.out > 0.0)\n"
      ]
    },
    {
      "cell_type": "code",
      "execution_count": 10,
      "id": "ccf72a8b-bc2f-42f7-bd57-3c670815498f",
      "metadata": {
        "id": "ccf72a8b-bc2f-42f7-bd57-3c670815498f"
      },
      "outputs": [],
      "source": [
        "class LinearMap(Transform):\n",
        "    def __init__(self, indim, outdim, lr=0.001):\n",
        "        \"\"\"\n",
        "        indim: input dimension\n",
        "        outdim: output dimension\n",
        "        lr: learning rate\n",
        "        \"\"\"\n",
        "        super(LinearMap, self).__init__()\n",
        "        self.weights = 0.01 *torch.rand((outdim, indim), dtype=torch.float64, requires_grad=True)\n",
        "        self.bias = 0.01 * torch.rand((outdim, 1), dtype=torch.float64, requires_grad=True)\n",
        "        self.lr = lr\n",
        "\n",
        "\n",
        "    def forward(self, x):\n",
        "        \"\"\"\n",
        "        x shape (indim, batch_size)\n",
        "        return shape (outdim, batch_size)\n",
        "        \"\"\"\n",
        "        self.x = x\n",
        "        return torch.matmul(self.weights, x) + self.bias\n",
        "\n",
        "\n",
        "    def backward(self, grad_wrt_out):\n",
        "        \"\"\"\n",
        "        grad_wrt_out shape (outdim, batch_size)\n",
        "        return shape (indim, batch_size)\n",
        "        \"\"\"\n",
        "        grad_weights = torch.matmul(grad_wrt_out, self.x.t())\n",
        "        self.bias.grad = torch.sum(grad_wrt_out, dim=1, keepdim=True)\n",
        "        grad_wrt_input = torch.matmul(self.weights.t(), grad_wrt_out)\n",
        "        self.weights.grad = grad_weights\n",
        "        return grad_wrt_input\n",
        "\n",
        "\n",
        "    def step(self):\n",
        "        \"\"\"\n",
        "        apply gradients calculated by backward() to update the parameters\n",
        "        \"\"\"\n",
        "        \n",
        "        self.weights = self.weights - self.lr * self.weights.grad\n",
        "        self.bias = self.bias - self.lr * self.bias.grad\n",
        "        \n",
        "    def zerograd(self):\n",
        "        if self.weights.grad is not None:\n",
        "            self.weights.grad.zero_()\n",
        "        if self.bias.grad is not None:\n",
        "            self.bias.grad.zero_()"
      ]
    },
    {
      "cell_type": "code",
      "execution_count": 11,
      "id": "0251e357-e62e-453c-ac99-219eef952407",
      "metadata": {
        "id": "0251e357-e62e-453c-ac99-219eef952407"
      },
      "outputs": [],
      "source": [
        "class SingleLayerMLP(Transform):\n",
        "    \"\"\"constructing a single layer neural network with the previous functions\"\"\"\n",
        "    def __init__(self, indim, outdim, hidden_layer_1=100, hidden_layer_2=100, lr=0.001):\n",
        "        super(SingleLayerMLP, self).__init__()\n",
        "        self.fc1 = LinearMap(indim, hidden_layer_1, lr=lr)\n",
        "        self.relu1 = ReLU()\n",
        "        self.fc2 = LinearMap(hidden_layer_1, hidden_layer_2, lr=lr)\n",
        "        self.relu2 = ReLU()\n",
        "        self.fc3 = LinearMap(hidden_layer_2, outdim, lr=lr)\n",
        "        self.criterion = SoftmaxCrossEntropyLoss()\n",
        "        self.loss = None\n",
        "\n",
        "\n",
        "    def forward(self, x):\n",
        "        \"\"\"\n",
        "        x shape (indim, batch_size)\n",
        "        return the presoftmax logits shape(outdim, batch_size)\n",
        "        \"\"\"\n",
        "        out = self.fc1.forward(x)\n",
        "        out = self.relu1.forward(out)\n",
        "        out = self.fc2.forward(out)\n",
        "        out = self.relu2.forward(out)\n",
        "        out = self.fc3.forward(out)\n",
        "        return out\n",
        "\n",
        "\n",
        "    def backward(self,grad_wrt_out):\n",
        "        \"\"\"\n",
        "        grad_wrt_out shape (outdim, batch_size)\n",
        "        calculate the gradients wrt the parameters\n",
        "        \"\"\"\n",
        "        grad_wrt_out = self.fc3.backward(grad_wrt_out)\n",
        "        grad_wrt_out = self.relu2.backward(grad_wrt_out)\n",
        "        grad_wrt_out = self.fc2.backward(grad_wrt_out)\n",
        "        grad_wrt_out = self.relu1.backward(grad_wrt_out)\n",
        "        grad_wrt_out = self.fc1.backward(grad_wrt_out)\n",
        "        return grad_wrt_out\n",
        "\n",
        "    \n",
        "    def step(self):\n",
        "        \"\"\"update model parameters\"\"\"\n",
        "        self.fc1.step()\n",
        "        self.relu1.step()\n",
        "        self.fc2.step()\n",
        "        self.relu2.step()\n",
        "        self.fc3.step()\n"
      ]
    },
    {
      "cell_type": "code",
      "execution_count": 12,
      "id": "10c36b9c-4718-41f2-8a2a-69142094965c",
      "metadata": {
        "id": "10c36b9c-4718-41f2-8a2a-69142094965c"
      },
      "outputs": [],
      "source": [
        "class SoftmaxCrossEntropyLoss(object):\n",
        "    def __init__(self):\n",
        "        self.num_classes, self.batch_size = None, None\n",
        "        \n",
        "    def forward(self, logits, labels):\n",
        "        \"\"\"\n",
        "        logits are pre-softmax scores, labels are one-hot labels of given inputs\n",
        "        logits and labels are in the shape of (num_classes, batch_size)\n",
        "        returns loss as a scalar (i.e. mean value of the batch_size loss)\n",
        "        \"\"\"\n",
        "        self.logits = logits\n",
        "        self.labels = labels\n",
        "        self.batch_size = logits.shape[1]\n",
        "        e_logits = torch.exp(logits)\n",
        "        self.prob = e_logits / torch.sum(e_logits, dim=0, keepdim=True) \n",
        "        logprob = -torch.log(self.prob[labels.argmax(dim=1), range(self.batch_size)])\n",
        "        return torch.mean(logprob)\n",
        "\n",
        "    def backward(self):\n",
        "        \"\"\"\n",
        "        return grad_wrt_logits shape (num_classes, batch_size)\n",
        "        (don't forget to divide by batch_size because your loss is a mean)\n",
        "        \"\"\"\n",
        "        grad_wrt_logits = self.prob.clone()\n",
        "        grad_wrt_logits[self.labels.argmax(dim=1), range(self.batch_size)] -= 1\n",
        "        grad_wrt_logits = grad_wrt_logits / self.batch_size\n",
        "        return grad_wrt_logits\n",
        "       \n",
        "    \n",
        "    def getAccu(self):\n",
        "        \"\"\"\n",
        "        return accuracy here\n",
        "        \"\"\"\n",
        "        label_pr = torch.argmax(self.prob,dim=0) == torch.argmax(self.labels, dim=1)\n",
        "        n = self.labels.shape[0]\n",
        "        accuracy = label_pr.sum().item() / n\n",
        "        return accuracy"
      ]
    },
    {
      "cell_type": "code",
      "execution_count": 13,
      "id": "6c5a5461-2723-49c9-8f4d-5ba706217147",
      "metadata": {
        "id": "6c5a5461-2723-49c9-8f4d-5ba706217147"
      },
      "outputs": [],
      "source": [
        "#Construct the model\n",
        "model = SingleLayerMLP(indim, outdim, hidden_dim_1, hidden_dim_2, lr)\n",
        "\n",
        "#Construct the loss function\n",
        "loss_function = SoftmaxCrossEntropyLoss()"
      ]
    },
    {
      "cell_type": "code",
      "source": [
        "# Construct the training process\n",
        "def training_process(train_loader, test_loader, model, loss_function, num_epochs):\n",
        "\n",
        "    train_size = len(train_loader)\n",
        "    test_size = len(test_loader)\n",
        "    train_loss = []\n",
        "    train_acc = []\n",
        "    test_loss= []\n",
        "    test_acc = []\n",
        "    train_temp = []\n",
        "    test_temp = []\n",
        "    epoch_id = []\n",
        "    \n",
        "    # Training loop\n",
        "    for epoch in range(num_epochs):\n",
        "        train = 0.0\n",
        "        for batch_idx, (X, y) in enumerate(train_loader):\n",
        "            X = X.t()\n",
        "            y = y.t()\n",
        "            # One hot encoding the y-labels\n",
        "            y_onehot = torch.from_numpy(labels2onehot(y))\n",
        "           \n",
        "            # Forward Pass\n",
        "            logits = model.forward(X)\n",
        "\n",
        "            #Calculating loss function\n",
        "            loss = loss_function.forward(logits, y_onehot)\n",
        "           \n",
        "            # Backward pass\n",
        "            grads = loss_function.backward()\n",
        "            model.backward(grads)\n",
        "            \n",
        "            # Update parameters\n",
        "            model.step()\n",
        "            \n",
        "            train = train + loss.item()\n",
        "            train_temp.append(loss_function.getAccu())\n",
        "            \n",
        "        train_loss.append(train/train_size)\n",
        "        train_acc.append(np.mean(train_temp))\n",
        "        \n",
        "        # Test loop\n",
        "        test = 0.0\n",
        "        with torch.no_grad():\n",
        "          for X, y in test_loader:\n",
        "            X = X.t()\n",
        "            y = y.t()\n",
        "\n",
        "            # One hot encoding\n",
        "            y = torch.from_numpy(labels2onehot(y))\n",
        "\n",
        "            # Forward pass\n",
        "            logits = model.forward(X)\n",
        "            loss = loss_function.forward(logits, y)\n",
        "            test = test + loss.item()\n",
        "            test_temp.append(loss_function.getAccu())\n",
        "        test_loss.append(test/test_size)\n",
        "        test_acc.append(np.mean(test_temp))\n",
        "        epoch_id.append(epoch)\n",
        "\n",
        "    return train_loss, test_loss, train_acc, test_acc, epoch_id"
      ],
      "metadata": {
        "id": "lsdezOQsyGFv"
      },
      "id": "lsdezOQsyGFv",
      "execution_count": 14,
      "outputs": []
    },
    {
      "cell_type": "code",
      "source": [
        "train_loss, test_loss, train_acc, test_acc, epoch_id = training_process(train_loader, test_loader, model, loss_function, epochs)"
      ],
      "metadata": {
        "id": "8kNEFXn01LXI"
      },
      "id": "8kNEFXn01LXI",
      "execution_count": 15,
      "outputs": []
    },
    {
      "cell_type": "code",
      "execution_count": 16,
      "id": "46052397-cdc5-4e19-873f-12502cd9f3e8",
      "metadata": {
        "colab": {
          "base_uri": "https://localhost:8080/",
          "height": 404
        },
        "id": "46052397-cdc5-4e19-873f-12502cd9f3e8",
        "outputId": "f7f8d8b9-4bc2-4305-fa6e-62ac7e52fa6c"
      },
      "outputs": [
        {
          "output_type": "display_data",
          "data": {
            "text/plain": [
              "<Figure size 576x432 with 1 Axes>"
            ],
            "image/png": "[encoded data removed]"
          },
          "metadata": {
            "needs_background": "light"
          }
        }
      ],
      "source": [
        "## Plotting training and test loss\n",
        "\n",
        "fig, ax = plt.subplots(figsize=(8,6))\n",
        "ax.plot(epoch_id, train_loss, color='green',label='Training Loss' )\n",
        "ax.plot(epoch_id, test_loss, color='red', label = 'Test Loss' )\n",
        "ax.set(title = \"Training vs. Test Loss (2 layer NN Implementation from scratch)\",\n",
        "       xlabel = \"Epoch\",\n",
        "       ylabel = \"Loss\")\n",
        "plt.legend()\n",
        "plt.show()"
      ]
    },
    {
      "cell_type": "code",
      "source": [
        "min_train_loss, min_test_loss = min(train_loss), min(test_loss)\n",
        "min_train_loss, min_test_loss"
      ],
      "metadata": {
        "colab": {
          "base_uri": "https://localhost:8080/"
        },
        "id": "7dj8XqFGM-T1",
        "outputId": "1b8a5e3e-5951-4d2b-8189-6ea02f81668a"
      },
      "id": "7dj8XqFGM-T1",
      "execution_count": 17,
      "outputs": [
        {
          "output_type": "execute_result",
          "data": {
            "text/plain": [
              "(0.1469161602713715, 0.16967647768229702)"
            ]
          },
          "metadata": {},
          "execution_count": 17
        }
      ]
    },
    {
      "cell_type": "code",
      "execution_count": 18,
      "id": "a498046b-c732-4d65-a725-06304feee98c",
      "metadata": {
        "colab": {
          "base_uri": "https://localhost:8080/",
          "height": 404
        },
        "id": "a498046b-c732-4d65-a725-06304feee98c",
        "outputId": "0a506726-e97b-4df4-d1d4-6624e9697f85"
      },
      "outputs": [
        {
          "output_type": "display_data",
          "data": {
            "text/plain": [
              "<Figure size 576x432 with 1 Axes>"
            ],
            "image/png": "[encoded data removed]"
          },
          "metadata": {
            "needs_background": "light"
          }
        }
      ],
      "source": [
        "## Plotting training and test accuracies\n",
        "\n",
        "fig, ax = plt.subplots(figsize=(8,6))\n",
        "ax.plot(epoch_id, train_acc, color='green',label='Training Accuracy' )\n",
        "ax.plot(epoch_id, test_acc, color='red', label = 'Test Accuracy' )\n",
        "ax.set(title = \"Training vs. Test Accuracy (2 layer NN Implementation from scratch)\",\n",
        "       xlabel = \"Epoch\",\n",
        "       ylabel = \"Accuracy\")\n",
        "plt.legend()\n",
        "plt.show()"
      ]
    },
    {
      "cell_type": "code",
      "source": [
        "final_train_accuracy, final_test_accuracy = max(train_acc), max(test_acc)\n",
        "final_train_accuracy, final_test_accuracy"
      ],
      "metadata": {
        "colab": {
          "base_uri": "https://localhost:8080/"
        },
        "id": "C_9MPOC2FnDw",
        "outputId": "eb8e40ff-e0e5-473f-efa8-6a76eda0e346"
      },
      "id": "C_9MPOC2FnDw",
      "execution_count": 19,
      "outputs": [
        {
          "output_type": "execute_result",
          "data": {
            "text/plain": [
              "(0.9163395003434065, 0.9046205357142857)"
            ]
          },
          "metadata": {},
          "execution_count": 19
        }
      ]
    },
    {
      "cell_type": "code",
      "source": [
        "min(train_acc), min(test_acc)"
      ],
      "metadata": {
        "colab": {
          "base_uri": "https://localhost:8080/"
        },
        "id": "u04b9la2Nyl1",
        "outputId": "6bcd0aa0-8c41-414e-db62-23fb475fcb99"
      },
      "id": "u04b9la2Nyl1",
      "execution_count": 20,
      "outputs": [
        {
          "output_type": "execute_result",
          "data": {
            "text/plain": [
              "(0.5009014423076923, 0.52734375)"
            ]
          },
          "metadata": {},
          "execution_count": 20
        }
      ]
    }
  ],
  "metadata": {
    "kernelspec": {
      "display_name": "Python 3 (ipykernel)",
      "language": "python",
      "name": "python3"
    },
    "language_info": {
      "codemirror_mode": {
        "name": "ipython",
        "version": 3
      },
      "file_extension": ".py",
      "mimetype": "text/x-python",
      "name": "python",
      "nbconvert_exporter": "python",
      "pygments_lexer": "ipython3",
      "version": "3.9.12"
    },
    "colab": {
      "provenance": []
    }
  },
  "nbformat": 4,
  "nbformat_minor": 5
}